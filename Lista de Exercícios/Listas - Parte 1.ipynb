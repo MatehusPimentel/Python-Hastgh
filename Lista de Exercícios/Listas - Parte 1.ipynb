{
 "cells": [
  {
   "cell_type": "markdown",
   "metadata": {},
   "source": [
    "# Exercícios\n",
    "\n",
    "## 1. Faturamento do Melhor e do Pior Mês do Ano\n",
    "\n",
    "Qual foi o valor de vendas do melhor mês do Ano?\n",
    "E valor do pior mês do ano?"
   ]
  },
  {
   "cell_type": "code",
   "execution_count": 77,
   "metadata": {},
   "outputs": [
    {
     "name": "stdout",
     "output_type": "stream",
     "text": [
      "[25000, 29000, 22200, 17750, 15870, 19900, 19850, 20120, 17540, 15555, 49051, 9650]\n",
      "49051\n",
      "9650\n"
     ]
    }
   ],
   "source": [
    "meses = ['jan', 'fev', 'mar', 'abr', 'mai', 'jun', 'jul', 'ago', 'set', 'out', 'nov', 'dez']\n",
    "vendas_1sem = [25000, 29000, 22200, 17750, 15870, 19900]\n",
    "vendas_2sem = [19850, 20120, 17540, 15555, 49051, 9650]\n",
    "\n",
    "vendas_ano = vendas_1sem + vendas_2sem\n",
    "print(vendas_ano)\n",
    "\n",
    "maior_venda = max(vendas_ano)\n",
    "print(maior_venda)\n",
    "\n",
    "menor_venda = min(vendas_ano)\n",
    "print(menor_venda)"
   ]
  },
  {
   "cell_type": "markdown",
   "metadata": {},
   "source": [
    "## 2. Continuação\n",
    "\n",
    "Agora relacione as duas listas para printar 'O melhor mês do ano foi {} com {} vendas' e o mesmo para o pior mês do ano.\n",
    "\n",
    "Calcule também o faturamento total do Ano e quanto que o melhor mês representou do faturamento total.\n",
    "\n",
    "Obs: Para o faturamento total, pode usar a função sum(lista) que soma todos os itens de uma lista"
   ]
  },
  {
   "cell_type": "code",
   "execution_count": 19,
   "metadata": {},
   "outputs": [
    {
     "name": "stdout",
     "output_type": "stream",
     "text": [
      "O melhor mês do ano foi nov com R$49051 vendas\n",
      "O pior mês do ano foi dez com R$9650 vendas\n",
      "O faturamento total é de R$261486\n",
      "O melhor mes repesentou 18.8% das vendas do ano\n"
     ]
    }
   ],
   "source": [
    "melhor_venda = vendas_ano.index(maior_venda)\n",
    "print('O melhor mês do ano foi {} com R${} vendas'.format(meses[melhor_venda], maior_venda))\n",
    "\n",
    "pior_venda = vendas_ano.index(menor_venda)\n",
    "print('O pior mês do ano foi {} com R${} vendas'.format(meses[pior_venda], menor_venda))\n",
    "\n",
    "soma_anual= sum(vendas_ano)\n",
    "print('O faturamento total é de R${}'.format(soma_anual))\n",
    "\n",
    "representou = maior_venda / soma_anual\n",
    "print('O melhor mes repesentou {:.1%} das vendas do ano'.format(representou))"
   ]
  },
  {
   "cell_type": "markdown",
   "metadata": {},
   "source": [
    "## 3. Crie uma lista com o top 3 valores de vendas do ano (sem fazer \"no olho\")\n",
    "\n",
    "Dica: o método remove retira um item da lista."
   ]
  },
  {
   "cell_type": "code",
   "execution_count": 76,
   "metadata": {},
   "outputs": [
    {
     "name": "stdout",
     "output_type": "stream",
     "text": [
      "[9650]\n"
     ]
    },
    {
     "ename": "ValueError",
     "evalue": "max() iterable argument is empty",
     "output_type": "error",
     "traceback": [
      "\u001b[1;31m---------------------------------------------------------------------------\u001b[0m",
      "\u001b[1;31mValueError\u001b[0m                                Traceback (most recent call last)",
      "Cell \u001b[1;32mIn[76], line 8\u001b[0m\n\u001b[0;32m      4\u001b[0m top3\u001b[38;5;241m.\u001b[39mappend(maior_venda)\n\u001b[0;32m      6\u001b[0m vendas_ano\u001b[38;5;241m.\u001b[39mremove(maior_venda)\n\u001b[1;32m----> 8\u001b[0m maior_venda \u001b[38;5;241m=\u001b[39m \u001b[38;5;28;43mmax\u001b[39;49m\u001b[43m(\u001b[49m\u001b[43mvendas_ano\u001b[49m\u001b[43m)\u001b[49m\n\u001b[0;32m      9\u001b[0m top3\u001b[38;5;241m.\u001b[39mappend(maior_venda)\n\u001b[0;32m     11\u001b[0m vendas_ano\u001b[38;5;241m.\u001b[39mremove(maior_venda)\n",
      "\u001b[1;31mValueError\u001b[0m: max() iterable argument is empty"
     ]
    }
   ],
   "source": [
    "top3 = []\n",
    "print(vendas_ano)\n",
    "maior_venda = max(vendas_ano)\n",
    "top3.append(maior_venda)\n",
    "\n",
    "vendas_ano.remove(maior_venda)\n",
    "\n",
    "maior_venda = max(vendas_ano)\n",
    "top3.append(maior_venda)\n",
    "\n",
    "vendas_ano.remove(maior_venda)\n",
    "\n",
    "maior_venda = max(vendas_ano)\n",
    "top3.append(maior_venda)\n",
    "print(top3)"
   ]
  }
 ],
 "metadata": {
  "kernelspec": {
   "display_name": "Python 3",
   "language": "python",
   "name": "python3"
  },
  "language_info": {
   "codemirror_mode": {
    "name": "ipython",
    "version": 3
   },
   "file_extension": ".py",
   "mimetype": "text/x-python",
   "name": "python",
   "nbconvert_exporter": "python",
   "pygments_lexer": "ipython3",
   "version": "3.12.9"
  }
 },
 "nbformat": 4,
 "nbformat_minor": 4
}
